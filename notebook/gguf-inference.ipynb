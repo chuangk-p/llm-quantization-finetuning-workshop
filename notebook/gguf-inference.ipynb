{
 "cells": [
  {
   "cell_type": "code",
   "execution_count": 1,
   "id": "700801f1-87c3-4cac-850b-cafb94ae9300",
   "metadata": {},
   "outputs": [],
   "source": [
    "import os\n",
    "from llama_cpp import Llama\n",
    "import datasets\n",
    "from tqdm.notebook import tqdm\n",
    "\n",
    "from sklearn.metrics import (accuracy_score,\n",
    "                             classification_report,\n",
    "                             confusion_matrix)\n",
    "import time"
   ]
  },
  {
   "cell_type": "code",
   "execution_count": 2,
   "id": "6d8fca03-a54b-4dc3-94e2-bdf54d74e0ff",
   "metadata": {},
   "outputs": [],
   "source": [
    "os.environ[\"CUDA_VISIBLE_DEVICES\"] = \"1\""
   ]
  },
  {
   "cell_type": "code",
   "execution_count": 3,
   "id": "634c263e-f38f-4b7e-9b19-466130bb70a9",
   "metadata": {
    "scrolled": true
   },
   "outputs": [
    {
     "name": "stderr",
     "output_type": "stream",
     "text": [
      "llama_context: n_ctx_per_seq (4096) < n_ctx_train (8192) -- the full capacity of the model will not be utilized\n"
     ]
    }
   ],
   "source": [
    "llm = Llama(\n",
    "    model_path=\"../quantize_model/llama3-8b-instruct-Q4K_M.gguf\",\n",
    "    n_gpu_layers=-1,   # offload all layers to GPU\n",
    "    n_ctx=4096,\n",
    "    temperature=0.0,\n",
    "    verbose=False\n",
    ")"
   ]
  },
  {
   "cell_type": "code",
   "execution_count": 4,
   "id": "ef5111cc-cfe5-4c5a-9161-994eccceccba",
   "metadata": {
    "scrolled": true
   },
   "outputs": [
    {
     "name": "stdout",
     "output_type": "stream",
     "text": [
      " – A simple explanation\n",
      "Have you ever looked up at the sky and wondered why it appears blue? It’s a question that has puzzled people for centuries, and the answer is actually quite simple.\n",
      "The sky appears blue because of a phenomenon called scattering. When sunlight enters Earth’s atmosphere, it encounters tiny molecules of gases such as nitrogen and oxygen. These molecules scatter the light in all directions, but they scatter shorter (blue) wavelengths more than longer (red) wavelengths.\n",
      "This is known as Rayleigh scattering, named after the British physicist Lord Rayleigh, who first described the phenomenon in the late 19th century. The scattering of light by the tiny molecules in the atmosphere is responsible for the blue color of the sky.\n",
      "Here’s a simple way to visualize it:\n",
      "Imagine you are shining a flashlight through a prism, which is a transparent material that bends light. The light will be refracted, or bent, as it passes through the prism, and you will see a rainbow-like spectrum of colors.\n",
      "Now imagine that the prism is made up of tiny molecules of gases in the atmosphere, and that the light is sunlight. The molecules in the atmosphere will scatter the light in all directions, but the shorter (blue) wavelengths will be scattered more than the longer (red) wavelengths\n",
      "CPU times: user 2.16 s, sys: 37.2 ms, total: 2.2 s\n",
      "Wall time: 2.71 s\n"
     ]
    }
   ],
   "source": [
    "%%time\n",
    "output = llm(\"Why is the sky blue?\", max_tokens=256)\n",
    "print(output[\"choices\"][0][\"text\"])"
   ]
  },
  {
   "cell_type": "markdown",
   "id": "9c5e6751-9694-4707-ad89-a2b58054f5f0",
   "metadata": {},
   "source": [
    "## Test performance"
   ]
  },
  {
   "cell_type": "code",
   "execution_count": 5,
   "id": "063c245b-49ee-40b0-ac89-852e39c299fa",
   "metadata": {},
   "outputs": [],
   "source": [
    "dataset = datasets.load_dataset('../dataset/thai-sentiment/')"
   ]
  },
  {
   "cell_type": "code",
   "execution_count": 6,
   "id": "77550e61-b0cd-4fa4-aa62-69a1a1c7da7d",
   "metadata": {},
   "outputs": [],
   "source": [
    "df = dataset['test'].to_pandas()"
   ]
  },
  {
   "cell_type": "code",
   "execution_count": 7,
   "id": "b553d69c-a41f-4ee2-b3f1-9be674d87ead",
   "metadata": {},
   "outputs": [
    {
     "data": {
      "text/html": [
       "<div>\n",
       "<style scoped>\n",
       "    .dataframe tbody tr th:only-of-type {\n",
       "        vertical-align: middle;\n",
       "    }\n",
       "\n",
       "    .dataframe tbody tr th {\n",
       "        vertical-align: top;\n",
       "    }\n",
       "\n",
       "    .dataframe thead th {\n",
       "        text-align: right;\n",
       "    }\n",
       "</style>\n",
       "<table border=\"1\" class=\"dataframe\">\n",
       "  <thead>\n",
       "    <tr style=\"text-align: right;\">\n",
       "      <th></th>\n",
       "      <th>label</th>\n",
       "      <th>text</th>\n",
       "    </tr>\n",
       "  </thead>\n",
       "  <tbody>\n",
       "    <tr>\n",
       "      <th>0</th>\n",
       "      <td>0</td>\n",
       "      <td>ไปเชียงใหม่ก็ระวังตัวกันเองนะครับ ต่อให้ขับมาแ...</td>\n",
       "    </tr>\n",
       "    <tr>\n",
       "      <th>1</th>\n",
       "      <td>0</td>\n",
       "      <td>อิเหี้ยจัยเย็น มันอินนิสฟรีเกาหลีว่ะ...</td>\n",
       "    </tr>\n",
       "    <tr>\n",
       "      <th>2</th>\n",
       "      <td>0</td>\n",
       "      <td>ไปกินมาไม่เห็นเหมือนในรูปเลย</td>\n",
       "    </tr>\n",
       "    <tr>\n",
       "      <th>3</th>\n",
       "      <td>0</td>\n",
       "      <td>คือค่าเหล้าเมื่อวานเปิดบลูเลเบลได้ขวดนึงเลยอะ ...</td>\n",
       "    </tr>\n",
       "    <tr>\n",
       "      <th>4</th>\n",
       "      <td>0</td>\n",
       "      <td>อะไรคือการกินสเมอร์นอฟรสใหม่ที่รสชาติเหมือนยาแ...</td>\n",
       "    </tr>\n",
       "    <tr>\n",
       "      <th>...</th>\n",
       "      <td>...</td>\n",
       "      <td>...</td>\n",
       "    </tr>\n",
       "    <tr>\n",
       "      <th>195</th>\n",
       "      <td>0</td>\n",
       "      <td>แอ่กกก</td>\n",
       "    </tr>\n",
       "    <tr>\n",
       "      <th>196</th>\n",
       "      <td>0</td>\n",
       "      <td>มันเว่อร์ แค่โฆษณาผ้าอนามัย</td>\n",
       "    </tr>\n",
       "    <tr>\n",
       "      <th>197</th>\n",
       "      <td>0</td>\n",
       "      <td>เผ็ดกูกินไม่ได้ !!!</td>\n",
       "    </tr>\n",
       "    <tr>\n",
       "      <th>198</th>\n",
       "      <td>0</td>\n",
       "      <td>หนองเมื่อทำให้สุกแล้วกินได้ใช่ไหม?! . . . . . ...</td>\n",
       "    </tr>\n",
       "    <tr>\n",
       "      <th>199</th>\n",
       "      <td>0</td>\n",
       "      <td>Honda ปรับ Option ให้กับ BR-V รุ่น 1.5 V+ (5 ท...</td>\n",
       "    </tr>\n",
       "  </tbody>\n",
       "</table>\n",
       "<p>200 rows × 2 columns</p>\n",
       "</div>"
      ],
      "text/plain": [
       "     label                                               text\n",
       "0        0  ไปเชียงใหม่ก็ระวังตัวกันเองนะครับ ต่อให้ขับมาแ...\n",
       "1        0            อิเหี้ยจัยเย็น มันอินนิสฟรีเกาหลีว่ะ...\n",
       "2        0                       ไปกินมาไม่เห็นเหมือนในรูปเลย\n",
       "3        0  คือค่าเหล้าเมื่อวานเปิดบลูเลเบลได้ขวดนึงเลยอะ ...\n",
       "4        0  อะไรคือการกินสเมอร์นอฟรสใหม่ที่รสชาติเหมือนยาแ...\n",
       "..     ...                                                ...\n",
       "195      0                                             แอ่กกก\n",
       "196      0                        มันเว่อร์ แค่โฆษณาผ้าอนามัย\n",
       "197      0                                เผ็ดกูกินไม่ได้ !!!\n",
       "198      0  หนองเมื่อทำให้สุกแล้วกินได้ใช่ไหม?! . . . . . ...\n",
       "199      0  Honda ปรับ Option ให้กับ BR-V รุ่น 1.5 V+ (5 ท...\n",
       "\n",
       "[200 rows x 2 columns]"
      ]
     },
     "execution_count": 7,
     "metadata": {},
     "output_type": "execute_result"
    }
   ],
   "source": [
    "df"
   ]
  },
  {
   "cell_type": "code",
   "execution_count": 8,
   "id": "be35d7f5-2290-46d9-8705-0219df090ae6",
   "metadata": {},
   "outputs": [],
   "source": [
    "sample_df = df[:10]"
   ]
  },
  {
   "cell_type": "code",
   "execution_count": 9,
   "id": "b12028d3-fc2b-437a-a1fa-18c949f24745",
   "metadata": {},
   "outputs": [
    {
     "data": {
      "text/html": [
       "<div>\n",
       "<style scoped>\n",
       "    .dataframe tbody tr th:only-of-type {\n",
       "        vertical-align: middle;\n",
       "    }\n",
       "\n",
       "    .dataframe tbody tr th {\n",
       "        vertical-align: top;\n",
       "    }\n",
       "\n",
       "    .dataframe thead th {\n",
       "        text-align: right;\n",
       "    }\n",
       "</style>\n",
       "<table border=\"1\" class=\"dataframe\">\n",
       "  <thead>\n",
       "    <tr style=\"text-align: right;\">\n",
       "      <th></th>\n",
       "      <th>label</th>\n",
       "      <th>text</th>\n",
       "    </tr>\n",
       "  </thead>\n",
       "  <tbody>\n",
       "    <tr>\n",
       "      <th>0</th>\n",
       "      <td>0</td>\n",
       "      <td>ไปเชียงใหม่ก็ระวังตัวกันเองนะครับ ต่อให้ขับมาแ...</td>\n",
       "    </tr>\n",
       "    <tr>\n",
       "      <th>1</th>\n",
       "      <td>0</td>\n",
       "      <td>อิเหี้ยจัยเย็น มันอินนิสฟรีเกาหลีว่ะ...</td>\n",
       "    </tr>\n",
       "    <tr>\n",
       "      <th>2</th>\n",
       "      <td>0</td>\n",
       "      <td>ไปกินมาไม่เห็นเหมือนในรูปเลย</td>\n",
       "    </tr>\n",
       "    <tr>\n",
       "      <th>3</th>\n",
       "      <td>0</td>\n",
       "      <td>คือค่าเหล้าเมื่อวานเปิดบลูเลเบลได้ขวดนึงเลยอะ ...</td>\n",
       "    </tr>\n",
       "    <tr>\n",
       "      <th>4</th>\n",
       "      <td>0</td>\n",
       "      <td>อะไรคือการกินสเมอร์นอฟรสใหม่ที่รสชาติเหมือนยาแ...</td>\n",
       "    </tr>\n",
       "    <tr>\n",
       "      <th>5</th>\n",
       "      <td>1</td>\n",
       "      <td>ตามดันๆๆ</td>\n",
       "    </tr>\n",
       "    <tr>\n",
       "      <th>6</th>\n",
       "      <td>0</td>\n",
       "      <td>เออ ข่าวบาบีก้อนอะที่เค้าบอกกันว่าถ้าสุกก็กินไ...</td>\n",
       "    </tr>\n",
       "    <tr>\n",
       "      <th>7</th>\n",
       "      <td>1</td>\n",
       "      <td>กลุ่มนี้ รีโว่ คุ้มสุดครับ กำลังดีสุด แรงม้าไม...</td>\n",
       "    </tr>\n",
       "    <tr>\n",
       "      <th>8</th>\n",
       "      <td>0</td>\n",
       "      <td>ข่าวนี้มันสะท้อนความเป็นเผด็จการบ้านป่าด้อยพัฒ...</td>\n",
       "    </tr>\n",
       "    <tr>\n",
       "      <th>9</th>\n",
       "      <td>0</td>\n",
       "      <td>ตะกวดไทยมันยึดสูบเอง มันเห้สุดตีน</td>\n",
       "    </tr>\n",
       "  </tbody>\n",
       "</table>\n",
       "</div>"
      ],
      "text/plain": [
       "   label                                               text\n",
       "0      0  ไปเชียงใหม่ก็ระวังตัวกันเองนะครับ ต่อให้ขับมาแ...\n",
       "1      0            อิเหี้ยจัยเย็น มันอินนิสฟรีเกาหลีว่ะ...\n",
       "2      0                       ไปกินมาไม่เห็นเหมือนในรูปเลย\n",
       "3      0  คือค่าเหล้าเมื่อวานเปิดบลูเลเบลได้ขวดนึงเลยอะ ...\n",
       "4      0  อะไรคือการกินสเมอร์นอฟรสใหม่ที่รสชาติเหมือนยาแ...\n",
       "5      1                                           ตามดันๆๆ\n",
       "6      0  เออ ข่าวบาบีก้อนอะที่เค้าบอกกันว่าถ้าสุกก็กินไ...\n",
       "7      1  กลุ่มนี้ รีโว่ คุ้มสุดครับ กำลังดีสุด แรงม้าไม...\n",
       "8      0  ข่าวนี้มันสะท้อนความเป็นเผด็จการบ้านป่าด้อยพัฒ...\n",
       "9      0                  ตะกวดไทยมันยึดสูบเอง มันเห้สุดตีน"
      ]
     },
     "execution_count": 9,
     "metadata": {},
     "output_type": "execute_result"
    }
   ],
   "source": [
    "sample_df"
   ]
  },
  {
   "cell_type": "code",
   "execution_count": 10,
   "id": "02a215e5-ce1c-426d-ad91-9d89ca9a3ec5",
   "metadata": {},
   "outputs": [
    {
     "data": {
      "text/plain": [
       "'ไปเชียงใหม่ก็ระวังตัวกันเองนะครับ ต่อให้ขับมาแบบถูกกฏหมายแต่คนเชียงใหม่ขับเส้นทึบเยอะ เนี่ยสังคมเห็นแก่ตัว'"
      ]
     },
     "execution_count": 10,
     "metadata": {},
     "output_type": "execute_result"
    }
   ],
   "source": [
    "sample_df['text'][0]"
   ]
  },
  {
   "cell_type": "markdown",
   "id": "ed26fe5d-eccb-483f-a2fd-7eca2310d36a",
   "metadata": {},
   "source": [
    "## Inference"
   ]
  },
  {
   "cell_type": "code",
   "execution_count": 11,
   "id": "76982c87-0eea-48f5-9246-1b334b9cab42",
   "metadata": {},
   "outputs": [],
   "source": [
    "PROMPT = f\"\"\"\n",
    "Analyze the sentiment of the tweet determine if it is positive or negative, and return the answer as the corresponding sentiment label \"positive\" or  \"negative\" \n",
    "\n",
    "#response in only \"positive\" or \"negative\"\n",
    "don't describe\n",
    "\"\"\""
   ]
  },
  {
   "cell_type": "code",
   "execution_count": 12,
   "id": "96e168b5-6409-418a-a5d1-e72f782cb394",
   "metadata": {},
   "outputs": [],
   "source": [
    "out = llm.create_chat_completion(\n",
    "    messages = [\n",
    "          {\"role\": \"system\", \"content\": PROMPT},\n",
    "          {\n",
    "              \"role\": \"user\",\n",
    "              \"content\": sample_df['text'][0]\n",
    "          }\n",
    "      ],\n",
    "    temperature=0.0\n",
    ")"
   ]
  },
  {
   "cell_type": "code",
   "execution_count": 13,
   "id": "cce9dbb1-70d6-46dd-b76d-9d26c2a74573",
   "metadata": {},
   "outputs": [
    {
     "data": {
      "text/plain": [
       "{'id': 'chatcmpl-7a96fc11-cb08-4961-8f87-ff4ee4dfb5a7',\n",
       " 'object': 'chat.completion',\n",
       " 'created': 1756963988,\n",
       " 'model': '../quantize_model/llama3-8b-instruct-Q4K_M.gguf',\n",
       " 'choices': [{'index': 0,\n",
       "   'message': {'role': 'assistant', 'content': 'negative'},\n",
       "   'logprobs': None,\n",
       "   'finish_reason': 'stop'}],\n",
       " 'usage': {'prompt_tokens': 116, 'completion_tokens': 1, 'total_tokens': 117}}"
      ]
     },
     "execution_count": 13,
     "metadata": {},
     "output_type": "execute_result"
    }
   ],
   "source": [
    "out"
   ]
  },
  {
   "cell_type": "code",
   "execution_count": 14,
   "id": "f8cd62f0-07e9-4cc4-9b73-8c48efada502",
   "metadata": {},
   "outputs": [
    {
     "data": {
      "text/plain": [
       "'negative'"
      ]
     },
     "execution_count": 14,
     "metadata": {},
     "output_type": "execute_result"
    }
   ],
   "source": [
    "out['choices'][0]['message']['content']"
   ]
  },
  {
   "cell_type": "code",
   "execution_count": 15,
   "id": "f178bad6-31f6-4cc8-a271-18787646c398",
   "metadata": {},
   "outputs": [
    {
     "data": {
      "application/vnd.jupyter.widget-view+json": {
       "model_id": "b55974dfb903412ab0a673da75788a83",
       "version_major": 2,
       "version_minor": 0
      },
      "text/plain": [
       "  0%|          | 0/10 [00:00<?, ?it/s]"
      ]
     },
     "metadata": {},
     "output_type": "display_data"
    }
   ],
   "source": [
    "start_time = time.time()\n",
    "output_list = []\n",
    "for row in tqdm(sample_df['text'].tolist()):\n",
    "    out = llm.create_chat_completion(\n",
    "        messages = [\n",
    "          {\"role\": \"system\", \"content\": PROMPT},\n",
    "          {\"role\": \"user\", \"content\": row}\n",
    "      ],\n",
    "        temperature=0.0\n",
    "    )\n",
    "    output_list.append(out['choices'][0]['message']['content'])\n",
    "end_time = time.time()\n",
    "time_diff = end_time - start_time"
   ]
  },
  {
   "cell_type": "code",
   "execution_count": 16,
   "id": "15b3d4b3-d289-425c-a45a-14351e7b3f9f",
   "metadata": {},
   "outputs": [
    {
     "data": {
      "text/plain": [
       "['negative',\n",
       " 'negative',\n",
       " 'negative',\n",
       " 'negative',\n",
       " '\"negative\"',\n",
       " 'negative',\n",
       " 'negative',\n",
       " 'positive',\n",
       " 'negative',\n",
       " 'negative']"
      ]
     },
     "execution_count": 16,
     "metadata": {},
     "output_type": "execute_result"
    }
   ],
   "source": [
    "output_list"
   ]
  },
  {
   "cell_type": "markdown",
   "id": "540604d7-1ee8-422a-b601-97b0e934b52d",
   "metadata": {},
   "source": [
    "### Change format"
   ]
  },
  {
   "cell_type": "code",
   "execution_count": 17,
   "id": "45db0d8b-1590-4ad8-999c-28050f213684",
   "metadata": {},
   "outputs": [],
   "source": [
    "format_output = []\n",
    "for row in output_list:\n",
    "    if 'negative' in row:\n",
    "        format_output.append(0)\n",
    "    else:\n",
    "        format_output.append(1)"
   ]
  },
  {
   "cell_type": "code",
   "execution_count": 18,
   "id": "9a78b0cc-0698-4e76-b108-7e9e5ddb3c4b",
   "metadata": {},
   "outputs": [
    {
     "data": {
      "text/plain": [
       "[0, 0, 0, 0, 0, 0, 0, 1, 0, 0]"
      ]
     },
     "execution_count": 18,
     "metadata": {},
     "output_type": "execute_result"
    }
   ],
   "source": [
    "format_output"
   ]
  },
  {
   "cell_type": "code",
   "execution_count": 19,
   "id": "690b6a77-6172-4666-bcaf-f9d088443cb9",
   "metadata": {},
   "outputs": [
    {
     "data": {
      "text/plain": [
       "[0, 0, 0, 0, 0, 1, 0, 1, 0, 0]"
      ]
     },
     "execution_count": 19,
     "metadata": {},
     "output_type": "execute_result"
    }
   ],
   "source": [
    "sample_df['label'].tolist()"
   ]
  },
  {
   "cell_type": "markdown",
   "id": "6655a542-9432-4c97-b57e-4efd5f09e12c",
   "metadata": {},
   "source": [
    "## Evaluate"
   ]
  },
  {
   "cell_type": "code",
   "execution_count": 20,
   "id": "a1db03b1-eb92-4b1c-9009-260db3194fae",
   "metadata": {},
   "outputs": [],
   "source": [
    "class_report = classification_report(y_true=sample_df['label'].tolist(), y_pred=format_output)"
   ]
  },
  {
   "cell_type": "code",
   "execution_count": 21,
   "id": "e1cecef7-68dd-4f4d-b869-c09976824473",
   "metadata": {},
   "outputs": [
    {
     "name": "stdout",
     "output_type": "stream",
     "text": [
      "              precision    recall  f1-score   support\n",
      "\n",
      "           0       0.89      1.00      0.94         8\n",
      "           1       1.00      0.50      0.67         2\n",
      "\n",
      "    accuracy                           0.90        10\n",
      "   macro avg       0.94      0.75      0.80        10\n",
      "weighted avg       0.91      0.90      0.89        10\n",
      "\n"
     ]
    }
   ],
   "source": [
    "print(class_report)"
   ]
  },
  {
   "cell_type": "code",
   "execution_count": 22,
   "id": "ede44527-9930-4fb7-b5e5-e75b40f11fa4",
   "metadata": {},
   "outputs": [
    {
     "name": "stdout",
     "output_type": "stream",
     "text": [
      "Execution time: 0.381958 seconds\n"
     ]
    }
   ],
   "source": [
    "print(f\"Execution time: {time_diff:.6f} seconds\")"
   ]
  },
  {
   "cell_type": "code",
   "execution_count": null,
   "id": "bc85afad-e95f-4e18-bdd4-f3ad3de011d5",
   "metadata": {},
   "outputs": [],
   "source": []
  }
 ],
 "metadata": {
  "kernelspec": {
   "display_name": "Python 3 (ipykernel)",
   "language": "python",
   "name": "python3"
  },
  "language_info": {
   "codemirror_mode": {
    "name": "ipython",
    "version": 3
   },
   "file_extension": ".py",
   "mimetype": "text/x-python",
   "name": "python",
   "nbconvert_exporter": "python",
   "pygments_lexer": "ipython3",
   "version": "3.10.12"
  }
 },
 "nbformat": 4,
 "nbformat_minor": 5
}
